{
 "cells": [
  {
   "cell_type": "code",
   "execution_count": 43,
   "id": "e20cfe64",
   "metadata": {},
   "outputs": [],
   "source": [
    "import pandas as pd\n",
    "import numpy as np\n",
    "from sklearn.preprocessing import Normalizer\n",
    "from sklearn.preprocessing import OneHotEncoder"
   ]
  },
  {
   "cell_type": "code",
   "execution_count": 44,
   "id": "d8866867",
   "metadata": {},
   "outputs": [],
   "source": [
    "FIFA = pd.read_csv('fifa21_train.csv')"
   ]
  },
  {
   "cell_type": "code",
   "execution_count": 45,
   "id": "3043d24e",
   "metadata": {},
   "outputs": [],
   "source": [
    "def cleanHightWeightFoot(df):\n",
    "    #Height\n",
    "    player_info_part_clean = df.copy()\n",
    "    def feet2cm (x):\n",
    "        height = x.split(\"'\")\n",
    "        return float(height[0])*30.48 + float(height[1][:-1])*2.54  \n",
    "    player_info_part_clean['height'] = player_info_part_clean['height'].map(feet2cm)\n",
    "\n",
    "    #Weight\n",
    "    player_info_part_clean2 = player_info_part_clean.copy()\n",
    "    def libs2kg (x):\n",
    "        return float(x[:-3]) * 0.45359237\n",
    "    player_info_part_clean2['weight'] = player_info_part_clean2['weight'].map(libs2kg)\n",
    "\n",
    "    # Left and right foot\n",
    "    player_info_part_clean3 = player_info_part_clean2.copy()\n",
    "    mapping = {'Right':0,'Left':1}\n",
    "    player_info_part_clean3 = player_info_part_clean3.replace({'foot': mapping})\n",
    "    player_info_part_clean3.head()\n",
    "    \n",
    "    return player_info_part_clean3"
   ]
  },
  {
   "cell_type": "code",
   "execution_count": 46,
   "id": "575674c6",
   "metadata": {},
   "outputs": [],
   "source": [
    "def clean_money(df):\n",
    "    \n",
    "    data = df.copy()\n",
    "    \n",
    "    def typeConvert(x):\n",
    "        x = x[1:]\n",
    "        if 'K' in x:\n",
    "            x = 1000*float(x[:-1])\n",
    "        elif \"M\" in x:\n",
    "            x = 1000000*float(x[:-1])\n",
    "        else:\n",
    "            float(x)\n",
    "        return str(x)\n",
    "\n",
    "    data['release clause'] = data['release clause'].map(typeConvert)\n",
    "    data['release clause'] = data['release clause'].astype(float)\n",
    "\n",
    "    data['wage'] = data['wage'].map(typeConvert)\n",
    "    data['wage'] = data['wage'].astype(float)\n",
    "\n",
    "    data['value'] = data['value'].map(typeConvert)\n",
    "    data['value'] = data['value'].astype(float)\n",
    "    \n",
    "    return data"
   ]
  },
  {
   "cell_type": "code",
   "execution_count": 47,
   "id": "230a6506",
   "metadata": {},
   "outputs": [],
   "source": [
    "def clean_player(x):\n",
    "    x = x.drop(['Loan Date End'],axis=1)\n",
    "    cols = []\n",
    "    for i in range(len(x.columns)):\n",
    "        cols.append(x.columns[i].lower())\n",
    "    x.columns = cols\n",
    "        \n",
    "    x.position.fillna(x.bp, inplace=True)\n",
    "    x.club.fillna(x['team & contract'], inplace=True)\n",
    "    x = x.drop(['joined','team & contract'],axis=1)\n",
    "    \n",
    "    x = cleanHightWeightFoot(x)\n",
    "    x = clean_money(x)\n",
    "    \n",
    "    return x"
   ]
  },
  {
   "cell_type": "code",
   "execution_count": 48,
   "id": "ae2a164f",
   "metadata": {},
   "outputs": [],
   "source": [
    "def clean_skills(df):\n",
    "    skills = df.copy()\n",
    "    #Dropping columns\n",
    "    skills = skills.drop(['attacking', 'skill', 'movement', 'power', 'mentality', 'defending', 'goalkeeping'], axis = 1)\n",
    "\n",
    "    #Dropping NaNs\n",
    "    skills = skills.dropna()\n",
    "    skills = skills.reset_index(drop = True)\n",
    "\n",
    "    #Replacing NaNs for the mean\n",
    "    skills = skills.fillna(skills.mean())\n",
    "    skills['composure'] = skills['composure'].round(decimals = 1)\n",
    "    \n",
    "    return skills"
   ]
  },
  {
   "cell_type": "code",
   "execution_count": 49,
   "id": "46dc39d1",
   "metadata": {},
   "outputs": [],
   "source": [
    "def cleanPlayerBaseStats(df):\n",
    "    # Meaning of the columns:\n",
    "    # W/F - Weak Foot\n",
    "    # SM - Skill Moves\n",
    "    # A/W - Attacking Work Rate\n",
    "    # D/W - Defending Work Rate\n",
    "    # IR -  Interception rate?\n",
    "    # PAC - Pace .. player speed\n",
    "    # SHO - Shoot\n",
    "    # DRI - Dribling\n",
    "    # DEF - Defense\n",
    "    # PHY - Physical\n",
    "    # Hits - \n",
    "    player_base_stats = df.copy()\n",
    "   \n",
    "    player_base_stats = player_base_stats.dropna()\n",
    "    player_base_stats.reset_index(drop=True)\n",
    "\n",
    "    player_base_stats_clean = player_base_stats.copy()\n",
    "    removeStars1 = lambda x: x[:-1]\n",
    "    removeStars2 = lambda x: x[:-2]\n",
    "    player_base_stats_clean['w/f'] = player_base_stats_clean['w/f'].map(removeStars2)\n",
    "    player_base_stats_clean['sm'] = player_base_stats_clean['sm'].map(removeStars1)\n",
    "    player_base_stats_clean['ir'] = player_base_stats_clean['ir'].map(removeStars2)\n",
    "\n",
    "    # We change names by data for some features (the ones that can be ordered)\n",
    "    player_base_stats_clean2 = player_base_stats_clean.copy()\n",
    "    mapping = {'Low':0,'Medium':1,'High':2}\n",
    "    player_base_stats_clean2 = player_base_stats_clean2.replace({'a/w': mapping})\n",
    "    player_base_stats_clean2 = player_base_stats_clean2.replace({'d/w': mapping})\n",
    "\n",
    "    # We convert them to numeric values\n",
    "    player_base_stats_clean3= player_base_stats_clean2.copy()\n",
    "    player_base_stats_clean3['w/f'] = player_base_stats_clean3['w/f'].astype(float)\n",
    "    player_base_stats_clean3['sm'] = player_base_stats_clean3['sm'].astype(float)\n",
    "    player_base_stats_clean3['ir'] = player_base_stats_clean3['ir'].astype(float)\n",
    "\n",
    "    def typeConvert(x):\n",
    "        if 'K' in x:\n",
    "            x = 1000*float(x[:-1])\n",
    "        else:\n",
    "            float(x)\n",
    "        return str(x) \n",
    "\n",
    "    player_base_stats_clean3['hits'] = player_base_stats_clean3['hits'].map(typeConvert)\n",
    "    player_base_stats_clean3['hits'] = player_base_stats_clean3['hits'].astype(float)\n",
    "\n",
    "    return player_base_stats_clean3"
   ]
  },
  {
   "cell_type": "code",
   "execution_count": 50,
   "id": "43b4c88a",
   "metadata": {},
   "outputs": [],
   "source": [
    "def clean_positions(df):\n",
    "    \n",
    "    df_remaining = df.drop(['ls',  'st',  'rs',  'lw',  'lf', 'cf', 'rf', 'rw', 'lam', 'cam', 'ram', \n",
    "              'lm', 'lcm', 'cm', 'rcm',  'rm', 'lwb', 'ldm', 'cdm', 'rdm', 'rwb', 'lb',\n",
    "              'lcb', 'cb', 'rcb', 'rb', 'gk', 'ova'], axis=1)\n",
    "    \n",
    "    #Get the relevant data\n",
    "    df_edit = df[['ls',  'st',  'rs',  'lw',  'lf', 'cf', 'rf', 'rw', 'lam', 'cam', 'ram', \n",
    "              'lm', 'lcm', 'cm', 'rcm',  'rm', 'lwb', 'ldm', 'cdm', 'rdm', 'rwb', 'lb',\n",
    "              'lcb', 'cb', 'rcb', 'rb', 'gk', 'ova']]\n",
    "    \n",
    "    pos = df_edit.copy()\n",
    "    #Create splits and add to the df\n",
    "    pos[['ls','ls_add']] = pos.ls.str.split('+',1).tolist()\n",
    "    pos[['st','st_add']] = pos.st.str.split('+',1).tolist()\n",
    "    pos[['rs','rs_add']] = pos.rs.str.split('+',1).tolist()\n",
    "    pos[['lw','lw_add']] = pos.lw.str.split('+',1).tolist()\n",
    "    pos[['lf','lf_add']] = pos.lf.str.split('+',1).tolist()\n",
    "    pos[['cf','cf_add']] = pos.cf.str.split('+',1).tolist()\n",
    "    pos[['rf','rf_add']] = pos.rf.str.split('+',1).tolist()\n",
    "    pos[['rw','rw_add']] = pos.rw.str.split('+',1).tolist()\n",
    "    pos[['lam','lam_add']] = pos.lam.str.split('+',1).tolist()\n",
    "    pos[['cam','cam_add']] = pos.cam.str.split('+',1).tolist()\n",
    "    pos[['ram','ram_add']] = pos.ram.str.split('+',1).tolist()\n",
    "    pos[['lm','lm_add']] = pos.lm.str.split('+',1).tolist()\n",
    "    pos[['lcm','lcm_add']] = pos.lcm.str.split('+',1).tolist()\n",
    "    pos[['cm','cm_add']] = pos.cm.str.split('+',1).tolist()\n",
    "    pos[['rcm','rcm_add']] = pos.rcm.str.split('+',1).tolist()\n",
    "    pos[['rm','rm_add']] = pos.rm.str.split('+',1).tolist()\n",
    "    pos[['lwb','lwb_add']] = pos.lwb.str.split('+',1).tolist()\n",
    "    pos[['ldm','ldm_add']] = pos.ldm.str.split('+',1).tolist()\n",
    "    pos[['cdm','cdm_add']] = pos.cdm.str.split('+',1).tolist()\n",
    "    pos[['rwb','rwb_add']] = pos.rwb.str.split('+',1).tolist()\n",
    "    pos[['lb','lb_add']] = pos.lb.str.split('+',1).tolist()\n",
    "    pos[['lcb','lcb_add']] = pos.lcb.str.split('+',1).tolist()\n",
    "    pos[['rcb','rcb_add']] = pos.rcb.str.split('+',1).tolist()\n",
    "    pos[['rb','rb_add']] = pos.rb.str.split('+',1).tolist()\n",
    "    pos[['gk','gk_add']] = pos.gk.str.split('+',1).tolist()\n",
    "    \n",
    "    \n",
    "    #Convert all columns to numeric\n",
    "    for a in pos:\n",
    "        pos[a] =  pd.to_numeric(pos[a], errors='coerce')\n",
    "    \n",
    "    #Select only columns that are relevant in respect to multicollinearity\n",
    "    pos_spl_final = pos[['st',  'lw', 'cf', 'cam', 'lm','cm', 'lwb', 'cdm',  'lb', 'lcb', 'gk', 'st_add',\n",
    "                             'lw_add', 'cf_add','cam_add', 'lm_add', 'cm_add', 'lwb_add', 'cdm_add', 'lb_add', \n",
    "                             'lcb_add','gk_add','ova']]\n",
    "    \n",
    "    df_new = pd.concat([df_remaining,pos_spl_final], axis=1)    \n",
    "    \n",
    "    return df_new"
   ]
  },
  {
   "cell_type": "code",
   "execution_count": 51,
   "id": "b4beee8c",
   "metadata": {},
   "outputs": [],
   "source": [
    "def preprocess(df):\n",
    "    df_clean = df.copy()\n",
    "    \n",
    "    df_clean = clean_player(df_clean)\n",
    "    df_clean = clean_skills(df_clean)\n",
    "    df_clean = cleanPlayerBaseStats(df_clean)\n",
    "    df_clean = clean_positions(df_clean)\n",
    "    \n",
    "    return df_clean"
   ]
  },
  {
   "cell_type": "code",
   "execution_count": 52,
   "id": "industrial-springfield",
   "metadata": {},
   "outputs": [
    {
     "name": "stdout",
     "output_type": "stream",
     "text": [
      "(11701, 101)\n"
     ]
    },
    {
     "name": "stderr",
     "output_type": "stream",
     "text": [
      "<ipython-input-48-b731ca58d9b0>:11: FutureWarning: Dropping of nuisance columns in DataFrame reductions (with 'numeric_only=None') is deprecated; in a future version this will raise TypeError.  Select only valid columns before calling the reduction.\n",
      "  skills = skills.fillna(skills.mean())\n"
     ]
    }
   ],
   "source": [
    "print(FIFA.shape)\n",
    "FIFA_preprocessed = preprocess(FIFA)"
   ]
  },
  {
   "cell_type": "code",
   "execution_count": 53,
   "id": "adaptive-peripheral",
   "metadata": {},
   "outputs": [
    {
     "name": "stdout",
     "output_type": "stream",
     "text": [
      "(11422, 86)\n"
     ]
    },
    {
     "data": {
      "text/html": [
       "<div>\n",
       "<style scoped>\n",
       "    .dataframe tbody tr th:only-of-type {\n",
       "        vertical-align: middle;\n",
       "    }\n",
       "\n",
       "    .dataframe tbody tr th {\n",
       "        vertical-align: top;\n",
       "    }\n",
       "\n",
       "    .dataframe thead th {\n",
       "        text-align: right;\n",
       "    }\n",
       "</style>\n",
       "<table border=\"1\" class=\"dataframe\">\n",
       "  <thead>\n",
       "    <tr style=\"text-align: right;\">\n",
       "      <th></th>\n",
       "      <th>id</th>\n",
       "      <th>name</th>\n",
       "      <th>age</th>\n",
       "      <th>nationality</th>\n",
       "      <th>club</th>\n",
       "      <th>bp</th>\n",
       "      <th>position</th>\n",
       "      <th>height</th>\n",
       "      <th>weight</th>\n",
       "      <th>foot</th>\n",
       "      <th>...</th>\n",
       "      <th>cf_add</th>\n",
       "      <th>cam_add</th>\n",
       "      <th>lm_add</th>\n",
       "      <th>cm_add</th>\n",
       "      <th>lwb_add</th>\n",
       "      <th>cdm_add</th>\n",
       "      <th>lb_add</th>\n",
       "      <th>lcb_add</th>\n",
       "      <th>gk_add</th>\n",
       "      <th>ova</th>\n",
       "    </tr>\n",
       "  </thead>\n",
       "  <tbody>\n",
       "    <tr>\n",
       "      <th>0</th>\n",
       "      <td>184383</td>\n",
       "      <td>A. Pasche</td>\n",
       "      <td>26</td>\n",
       "      <td>Switzerland</td>\n",
       "      <td>FC Lausanne-Sport</td>\n",
       "      <td>CM</td>\n",
       "      <td>CM CDM</td>\n",
       "      <td>175.26</td>\n",
       "      <td>73.028372</td>\n",
       "      <td>0</td>\n",
       "      <td>...</td>\n",
       "      <td>0</td>\n",
       "      <td>1</td>\n",
       "      <td>1</td>\n",
       "      <td>1</td>\n",
       "      <td>1</td>\n",
       "      <td>1</td>\n",
       "      <td>1</td>\n",
       "      <td>1</td>\n",
       "      <td>1</td>\n",
       "      <td>64</td>\n",
       "    </tr>\n",
       "    <tr>\n",
       "      <th>1</th>\n",
       "      <td>188044</td>\n",
       "      <td>Alan Carvalho</td>\n",
       "      <td>30</td>\n",
       "      <td>China PR</td>\n",
       "      <td>Beijing Sinobo Guoan FC</td>\n",
       "      <td>ST</td>\n",
       "      <td>ST LW LM</td>\n",
       "      <td>182.88</td>\n",
       "      <td>72.121187</td>\n",
       "      <td>0</td>\n",
       "      <td>...</td>\n",
       "      <td>0</td>\n",
       "      <td>1</td>\n",
       "      <td>1</td>\n",
       "      <td>2</td>\n",
       "      <td>2</td>\n",
       "      <td>2</td>\n",
       "      <td>2</td>\n",
       "      <td>2</td>\n",
       "      <td>2</td>\n",
       "      <td>77</td>\n",
       "    </tr>\n",
       "    <tr>\n",
       "      <th>2</th>\n",
       "      <td>184431</td>\n",
       "      <td>S. Giovinco</td>\n",
       "      <td>33</td>\n",
       "      <td>Italy</td>\n",
       "      <td>Al Hilal</td>\n",
       "      <td>CAM</td>\n",
       "      <td>CAM CF</td>\n",
       "      <td>162.56</td>\n",
       "      <td>60.781378</td>\n",
       "      <td>0</td>\n",
       "      <td>...</td>\n",
       "      <td>0</td>\n",
       "      <td>0</td>\n",
       "      <td>1</td>\n",
       "      <td>2</td>\n",
       "      <td>2</td>\n",
       "      <td>2</td>\n",
       "      <td>2</td>\n",
       "      <td>2</td>\n",
       "      <td>2</td>\n",
       "      <td>80</td>\n",
       "    </tr>\n",
       "    <tr>\n",
       "      <th>3</th>\n",
       "      <td>233796</td>\n",
       "      <td>J. Evans</td>\n",
       "      <td>22</td>\n",
       "      <td>Wales</td>\n",
       "      <td>Swansea City</td>\n",
       "      <td>CDM</td>\n",
       "      <td>CDM CM</td>\n",
       "      <td>177.80</td>\n",
       "      <td>68.946040</td>\n",
       "      <td>0</td>\n",
       "      <td>...</td>\n",
       "      <td>0</td>\n",
       "      <td>2</td>\n",
       "      <td>2</td>\n",
       "      <td>2</td>\n",
       "      <td>2</td>\n",
       "      <td>2</td>\n",
       "      <td>2</td>\n",
       "      <td>2</td>\n",
       "      <td>2</td>\n",
       "      <td>59</td>\n",
       "    </tr>\n",
       "    <tr>\n",
       "      <th>4</th>\n",
       "      <td>234799</td>\n",
       "      <td>Y. Demoncy</td>\n",
       "      <td>23</td>\n",
       "      <td>France</td>\n",
       "      <td>US Orléans Loiret Football</td>\n",
       "      <td>CDM</td>\n",
       "      <td>CDM CM</td>\n",
       "      <td>180.34</td>\n",
       "      <td>68.038855</td>\n",
       "      <td>0</td>\n",
       "      <td>...</td>\n",
       "      <td>0</td>\n",
       "      <td>2</td>\n",
       "      <td>2</td>\n",
       "      <td>2</td>\n",
       "      <td>2</td>\n",
       "      <td>2</td>\n",
       "      <td>2</td>\n",
       "      <td>2</td>\n",
       "      <td>2</td>\n",
       "      <td>65</td>\n",
       "    </tr>\n",
       "  </tbody>\n",
       "</table>\n",
       "<p>5 rows × 86 columns</p>\n",
       "</div>"
      ],
      "text/plain": [
       "       id           name  age  nationality                        club   bp  \\\n",
       "0  184383      A. Pasche   26  Switzerland           FC Lausanne-Sport   CM   \n",
       "1  188044  Alan Carvalho   30     China PR     Beijing Sinobo Guoan FC   ST   \n",
       "2  184431    S. Giovinco   33        Italy                    Al Hilal  CAM   \n",
       "3  233796       J. Evans   22        Wales                Swansea City  CDM   \n",
       "4  234799     Y. Demoncy   23       France  US Orléans Loiret Football  CDM   \n",
       "\n",
       "   position  height     weight  foot  ...  cf_add  cam_add  lm_add  cm_add  \\\n",
       "0    CM CDM  175.26  73.028372     0  ...       0        1       1       1   \n",
       "1  ST LW LM  182.88  72.121187     0  ...       0        1       1       2   \n",
       "2    CAM CF  162.56  60.781378     0  ...       0        0       1       2   \n",
       "3    CDM CM  177.80  68.946040     0  ...       0        2       2       2   \n",
       "4    CDM CM  180.34  68.038855     0  ...       0        2       2       2   \n",
       "\n",
       "  lwb_add  cdm_add  lb_add  lcb_add  gk_add  ova  \n",
       "0       1        1       1        1       1   64  \n",
       "1       2        2       2        2       2   77  \n",
       "2       2        2       2        2       2   80  \n",
       "3       2        2       2        2       2   59  \n",
       "4       2        2       2        2       2   65  \n",
       "\n",
       "[5 rows x 86 columns]"
      ]
     },
     "execution_count": 53,
     "metadata": {},
     "output_type": "execute_result"
    }
   ],
   "source": [
    "print(FIFA_preprocessed.shape)\n",
    "FIFA_preprocessed.head()"
   ]
  },
  {
   "cell_type": "code",
   "execution_count": 77,
   "id": "worst-briefing",
   "metadata": {},
   "outputs": [],
   "source": [
    "X = FIFA_preprocessed.drop(['ova','name','club','bp'], axis=1)\n",
    "y = FIFA_preprocessed[['ova']]"
   ]
  },
  {
   "cell_type": "code",
   "execution_count": 62,
   "id": "working-assault",
   "metadata": {},
   "outputs": [
    {
     "data": {
      "text/plain": [
       "Index(['id', 'age', 'height', 'weight', 'foot', 'growth', 'value', 'wage',\n",
       "       'release clause', 'crossing', 'finishing', 'heading accuracy',\n",
       "       'short passing', 'volleys', 'dribbling', 'curve', 'fk accuracy',\n",
       "       'long passing', 'ball control', 'acceleration', 'sprint speed',\n",
       "       'agility', 'reactions', 'balance', 'shot power', 'jumping', 'stamina',\n",
       "       'strength', 'long shots', 'aggression', 'interceptions', 'positioning',\n",
       "       'vision', 'penalties', 'composure', 'marking', 'standing tackle',\n",
       "       'sliding tackle', 'gk diving', 'gk handling', 'gk kicking',\n",
       "       'gk positioning', 'gk reflexes', 'total stats', 'base stats', 'w/f',\n",
       "       'sm', 'a/w', 'd/w', 'ir', 'pac', 'sho', 'pas', 'dri', 'def', 'phy',\n",
       "       'hits', 'st', 'lw', 'cf', 'cam', 'lm', 'cm', 'lwb', 'cdm', 'lb', 'lcb',\n",
       "       'gk', 'st_add', 'lw_add', 'cf_add', 'cam_add', 'lm_add', 'cm_add',\n",
       "       'lwb_add', 'cdm_add', 'lb_add', 'lcb_add', 'gk_add'],\n",
       "      dtype='object')"
      ]
     },
     "execution_count": 62,
     "metadata": {},
     "output_type": "execute_result"
    }
   ],
   "source": [
    "# #       · Numerical Features.\n",
    "# numerical = X.select_dtypes(include=[np.number])\n",
    "# numerical.columns"
   ]
  },
  {
   "cell_type": "code",
   "execution_count": 65,
   "id": "corporate-throat",
   "metadata": {},
   "outputs": [
    {
     "name": "stdout",
     "output_type": "stream",
     "text": [
      "(11422, 79)\n"
     ]
    }
   ],
   "source": [
    "# from sklearn.preprocessing import MinMaxScaler \n",
    "# transformer = MinMaxScaler().fit(numerical)\n",
    "# x_normalized = transformer.transform(numerical)\n",
    "# print(x_normalized.shape)\n",
    "# x_normalized = pd.DataFrame(x_normalized, columns=numerical.columns)"
   ]
  },
  {
   "cell_type": "code",
   "execution_count": 73,
   "id": "every-china",
   "metadata": {
    "scrolled": false
   },
   "outputs": [
    {
     "data": {
      "text/plain": [
       "Index(['nationality', 'club', 'bp', 'position', 'contract'], dtype='object')"
      ]
     },
     "execution_count": 73,
     "metadata": {},
     "output_type": "execute_result"
    }
   ],
   "source": [
    "# #       · Categorical Features.\n",
    "# categorical = X.select_dtypes(include=[object])\n",
    "# categorical.columns"
   ]
  },
  {
   "cell_type": "code",
   "execution_count": 74,
   "id": "engaging-trailer",
   "metadata": {},
   "outputs": [],
   "source": [
    "# #       · Encoding Categorical Data.\n",
    "# def categoricalEncoder(df):\n",
    "#     cat = df.copy()\n",
    "\n",
    "#     # We define the function that we will use in OneHotColum\n",
    "#     def oneHotColumn(col_transform):\n",
    "#         enc = OneHotEncoder(handle_unknown='ignore')\n",
    "#         enc.fit(col_transform)\n",
    "#         onehotlabels = enc.transform(col_transform).toarray()\n",
    "#         return pd.DataFrame(onehotlabels,columns = enc.categories_)\n",
    "\n",
    "#     # We apply OneHotColum to the other features of the frame\n",
    "#     concat_categorical = pd.DataFrame()# categorical[['Customer']]\n",
    "#     for col in cat.columns:\n",
    "#           df_from_column = oneHotColumn(cat[[col]])\n",
    "#           concat_categorical = pd.concat([concat_categorical,df_from_column], axis=1)#\n",
    "        \n",
    "#     new_columns = []\n",
    "#     for column in concat_categorical.columns:\n",
    "#         new_columns.append(column[0])\n",
    "#     concat_categorical.columns = new_columns\n",
    "    \n",
    "#     return concat_categorical"
   ]
  },
  {
   "cell_type": "code",
   "execution_count": 72,
   "id": "young-telling",
   "metadata": {},
   "outputs": [
    {
     "data": {
      "text/plain": [
       "Index(['Afghanistan', 'Albania', 'Algeria', 'Angola', 'Antigua &amp; Barbuda',\n",
       "       'Argentina', 'Armenia', 'Aruba', 'Australia', 'Austria',\n",
       "       ...\n",
       "       'GK', 'LB', 'LM', 'LW', 'LWB', 'RB', 'RM', 'RW', 'RWB', 'ST'],\n",
       "      dtype='object', length=173)"
      ]
     },
     "execution_count": 72,
     "metadata": {},
     "output_type": "execute_result"
    }
   ],
   "source": [
    "# categorical2 = categorical.drop(['club','position','contract'], axis=1)\n",
    "# categorical_encoded = categoricalEncoder(categorical2)\n",
    "# categorical_encoded.columns"
   ]
  },
  {
   "cell_type": "code",
   "execution_count": 66,
   "id": "built-andrews",
   "metadata": {},
   "outputs": [],
   "source": [
    "# First we get back X all together:\n",
    "X_tot = pd.concat([categorical_encoded,x_normalized], axis=1) "
   ]
  },
  {
   "cell_type": "code",
   "execution_count": 81,
   "id": "false-printing",
   "metadata": {},
   "outputs": [],
   "source": [
    "#       · Splitting into train set and test set.\n",
    "from sklearn.model_selection import train_test_split\n",
    "X_train, X_test, y_train, y_test = train_test_split(X, y, test_size=0.33, random_state=100)"
   ]
  },
  {
   "cell_type": "code",
   "execution_count": 99,
   "id": "processed-incentive",
   "metadata": {},
   "outputs": [
    {
     "data": {
      "text/plain": [
       "(7652, 3)"
      ]
     },
     "execution_count": 99,
     "metadata": {},
     "output_type": "execute_result"
    }
   ],
   "source": [
    "# #       · Categorical Features.\n",
    "categorical_train = X_train.select_dtypes(include=[object])\n",
    "categorical_test = X_test.select_dtypes(include=[object])\n",
    "categorical.columns\n",
    "categorical_train.shape"
   ]
  },
  {
   "cell_type": "code",
   "execution_count": 100,
   "id": "floating-large",
   "metadata": {},
   "outputs": [
    {
     "name": "stdout",
     "output_type": "stream",
     "text": [
      "[array(['Afghanistan', 'Albania', 'Algeria', 'Angola',\n",
      "       'Antigua &amp; Barbuda', 'Argentina', 'Armenia', 'Australia',\n",
      "       'Austria', 'Azerbaijan', 'Barbados', 'Belarus', 'Belgium', 'Benin',\n",
      "       'Bolivia', 'Bosnia Herzegovina', 'Brazil', 'Bulgaria',\n",
      "       'Burkina Faso', 'Burundi', 'Cameroon', 'Canada', 'Cape Verde',\n",
      "       'Central African Republic', 'Chad', 'Chile', 'China PR',\n",
      "       'Chinese Taipei', 'Colombia', 'Comoros', 'Congo', 'Costa Rica',\n",
      "       'Croatia', 'Cuba', 'Curacao', 'Cyprus', 'Czech Republic',\n",
      "       'DR Congo', 'Denmark', 'Dominican Republic', 'Ecuador', 'Egypt',\n",
      "       'El Salvador', 'England', 'Equatorial Guinea', 'Estonia',\n",
      "       'Faroe Islands', 'Finland', 'France', 'Gabon', 'Gambia', 'Georgia',\n",
      "       'Germany', 'Ghana', 'Gibraltar', 'Greece', 'Grenada', 'Guam',\n",
      "       'Guinea', 'Guinea Bissau', 'Guyana', 'Haiti', 'Honduras',\n",
      "       'Hungary', 'Iceland', 'India', 'Iran', 'Iraq', 'Israel', 'Italy',\n",
      "       'Ivory Coast', 'Jamaica', 'Japan', 'Kazakhstan', 'Kenya',\n",
      "       'Korea DPR', 'Korea Republic', 'Kosovo', 'Latvia', 'Lebanon',\n",
      "       'Liberia', 'Libya', 'Liechtenstein', 'Lithuania', 'Luxembourg',\n",
      "       'Madagascar', 'Malawi', 'Malaysia', 'Mali', 'Malta', 'Mauritania',\n",
      "       'Mexico', 'Moldova', 'Montenegro', 'Morocco', 'Mozambique',\n",
      "       'Netherlands', 'New Caledonia', 'New Zealand', 'Niger', 'Nigeria',\n",
      "       'North Macedonia', 'Northern Ireland', 'Norway', 'Palestine',\n",
      "       'Panama', 'Papua New Guinea', 'Paraguay', 'Peru', 'Philippines',\n",
      "       'Poland', 'Portugal', 'Republic of Ireland', 'Romania', 'Russia',\n",
      "       'Rwanda', 'Saint Kitts and Nevis', 'Saudi Arabia', 'Scotland',\n",
      "       'Senegal', 'Serbia', 'Sierra Leone', 'Slovakia', 'Slovenia',\n",
      "       'South Africa', 'South Sudan', 'Spain', 'Sudan', 'Sweden',\n",
      "       'Switzerland', 'Syria', 'São Tomé &amp; Príncipe', 'Thailand',\n",
      "       'Togo', 'Trinidad &amp; Tobago', 'Tunisia', 'Turkey', 'Uganda',\n",
      "       'Ukraine', 'United Arab Emirates', 'United States', 'Uruguay',\n",
      "       'Uzbekistan', 'Venezuela', 'Vietnam', 'Wales', 'Zambia',\n",
      "       'Zimbabwe'], dtype=object)]\n"
     ]
    }
   ],
   "source": [
    "from sklearn.preprocessing import OneHotEncoder\n",
    "encoder_nationality = OneHotEncoder(handle_unknown = 'ignore').fit(categorical_train[['nationality']])#fit determines how many unique alues has each categorical column. You can see below.\n",
    "print(encoder_nationality.categories_)\n",
    "encoded_train_nationality = encoder_nationality.transform(categorical_train[['nationality']]).toarray()\n",
    "encoded_test_nationality = encoder_nationality.transform(categorical_test[['nationality']]).toarray()\n",
    "nationality_encoded_train = pd.DataFrame(encoded_train_nationality,columns = encoder_nationality.categories_)\n",
    "nationality_encoded_test = pd.DataFrame(encoded_test_nationality,columns = encoder_nationality.categories_)\n",
    "\n",
    "# encoder_club = OneHotEncoder(handle_unknown = 'ignore').fit(categorical_train[['club']])#fit determines how many unique alues has each categorical column. You can see below.\n",
    "# print(encoder_club.categories_)\n",
    "# encoded_train_club = encoder_club.transform(categorical_train[['club']]).toarray()\n",
    "# encoded_test_club = encoder_club.transform(categorical_test[['club']]).toarray()\n",
    "# club_encoded_train = pd.DataFrame(encoded_train_club,columns = encoder_club.categories_)\n",
    "# club_encoded_test = pd.DataFrame(encoded_test_club,columns = encoder_club.categories_)\n",
    "\n",
    "# encoder_bp = OneHotEncoder(handle_unknown = 'ignore').fit(categorical_train[['bp']])#fit determines how many unique alues has each categorical column. You can see below.\n",
    "# print(encoder_bp.categories_)\n",
    "# encoded_train_bp = encoder_bp.transform(categorical_train[['bp']]).toarray()\n",
    "# encoded_test_bp = encoder_bp.transform(categorical_test[['bp']]).toarray()\n",
    "# bp_encoded_train = pd.DataFrame(encoded_train_bp,columns = encoder_bp.categories_)\n",
    "# bp_encoded_test = pd.DataFrame(encoded_test_bp,columns = encoder_bp.categories_)\n",
    "\n",
    "categorical_encoded_train = pd.concat([nationality_encoded_train], axis = 1)\n",
    "categorical_encoded_test = pd.concat([nationality_encoded_test], axis = 1)\n"
   ]
  },
  {
   "cell_type": "code",
   "execution_count": null,
   "id": "prostate-crossing",
   "metadata": {},
   "outputs": [],
   "source": [
    "from sklearn.preprocessing import OneHotEncoder\n",
    "encoder_nationality = OneHotEncoder().fit(categorical_train[['nationality']])#fit determines how many unique alues has each categorical column. You can see below.\n",
    "print(encoder_nationality.categories_)\n",
    "encoded_train_nationality = encoder_nationality.transform(categorical_enc_train[['nationality']]).toarray()\n",
    "encoded_test_nationality = encoder_nationality.transform(categorical_enc_test[['nationality']]).toarray()\n",
    "nationality_encoded_train = pd.DataFrame(encoded_train_nationality,columns = encoder_nationality.categories_)\n",
    "nationality_encoded_test = pd.DataFrame(encoded_test_nationality,columns = encoder_nationality.categories_)\n",
    "\n",
    "encoder_club = OneHotEncoder().fit(categorical_train[['club']])#fit determines how many unique alues has each categorical column. You can see below.\n",
    "print(encoder_club.categories_)\n",
    "encoded_train_club = encoder_club.transform(categorical_enc_train[['club']]).toarray()\n",
    "encoded_test_club = encoder_club.transform(categorical_enc_test[['club']]).toarray()\n",
    "club_encoded_train = pd.DataFrame(encoded_train_club,columns = encoder_club.categories_)\n",
    "club_encoded_test = pd.DataFrame(encoded_test_club,columns = encoder_club.categories_)\n",
    "\n",
    "encoder_bp = OneHotEncoder().fit(categorical_train[['bp']])#fit determines how many unique alues has each categorical column. You can see below.\n",
    "print(encoder_bp.categories_)\n",
    "encoded_train_bp = encoder_bp.transform(categorical_enc_train[['bp']]).toarray()\n",
    "encoded_test_bp = encoder_bp.transform(categorical_enc_test[['bp']]).toarray()\n",
    "bp_encoded_train = pd.DataFrame(encoded_train_bp,columns = encoder_bp.categories_)\n",
    "bp_encoded_test = pd.DataFrame(encoded_test_bp,columns = encoder_bp.categories_)\n",
    "\n",
    "categorical_encoded_train = pd.concat([nationality_encoded_train, club_encoded_train, bp_encoded_train], axis = 1)\n",
    "categorical_encoded_test = pd.concat([nationality_encoded_test, club_encoded_test, bp_encoded_test], axis = 1)\n"
   ]
  },
  {
   "cell_type": "code",
   "execution_count": 68,
   "id": "refined-great",
   "metadata": {},
   "outputs": [],
   "source": [
    "#       · Apply model.\n",
    "from sklearn.linear_model import LinearRegression\n",
    "reg = LinearRegression().fit(X_train, y_train)"
   ]
  },
  {
   "cell_type": "code",
   "execution_count": 69,
   "id": "quality-better",
   "metadata": {},
   "outputs": [
    {
     "name": "stdout",
     "output_type": "stream",
     "text": [
      "The R2 is:  0.9306079325918577\n",
      "The MSE is:  3.2097672733161318\n",
      "The RMSE is:  1.7915823378555984\n",
      "The MAE is:  1.392315223961056\n"
     ]
    }
   ],
   "source": [
    "# Model Validation\n",
    "#       · R2.\n",
    "#       · MSE.\n",
    "#       · RMSE.\n",
    "#       · MAE.\n",
    "# If we compare with the train set:\n",
    "from sklearn.metrics import r2_score,mean_absolute_error,mean_squared_error\n",
    "y_pred = reg.predict(X_train)\n",
    "y_true = y_train\n",
    "print(\"The R2 is: \",r2_score(y_true, y_pred))\n",
    "print(\"The MSE is: \",mean_squared_error(y_true, y_pred, squared=True))\n",
    "print(\"The RMSE is: \",mean_squared_error(y_true, y_pred, squared=False))\n",
    "print(\"The MAE is: \",mean_absolute_error(y_true, y_pred))"
   ]
  },
  {
   "cell_type": "code",
   "execution_count": 94,
   "id": "threatened-frank",
   "metadata": {},
   "outputs": [
    {
     "name": "stdout",
     "output_type": "stream",
     "text": [
      "The R2 is:  0.9289241691524726\n",
      "The MSE is:  3.4155555049067474\n",
      "The RMSE is:  1.8481221563811054\n",
      "The MAE is:  1.4499067382887532\n"
     ]
    }
   ],
   "source": [
    "# If we compare with the test set:\n",
    "y_pred = reg.predict(X_test)\n",
    "y_true = y_test\n",
    "print(\"The R2 is: \",r2_score(y_true, y_pred))\n",
    "print(\"The MSE is: \",mean_squared_error(y_true, y_pred, squared=True))\n",
    "print(\"The RMSE is: \",mean_squared_error(y_true, y_pred, squared=False))\n",
    "print(\"The MAE is: \",mean_absolute_error(y_true, y_pred))"
   ]
  },
  {
   "cell_type": "code",
   "execution_count": null,
   "id": "biological-state",
   "metadata": {},
   "outputs": [],
   "source": []
  }
 ],
 "metadata": {
  "kernelspec": {
   "display_name": "Python 3 (ipykernel)",
   "language": "python",
   "name": "python3"
  },
  "language_info": {
   "codemirror_mode": {
    "name": "ipython",
    "version": 3
   },
   "file_extension": ".py",
   "mimetype": "text/x-python",
   "name": "python",
   "nbconvert_exporter": "python",
   "pygments_lexer": "ipython3",
   "version": "3.9.5"
  }
 },
 "nbformat": 4,
 "nbformat_minor": 5
}
